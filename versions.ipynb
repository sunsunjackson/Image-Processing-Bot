{
 "cells": [
  {
   "cell_type": "code",
   "execution_count": 1,
   "metadata": {},
   "outputs": [
    {
     "name": "stderr",
     "output_type": "stream",
     "text": [
      "Using TensorFlow backend.\n"
     ]
    },
    {
     "name": "stdout",
     "output_type": "stream",
     "text": [
      "[{'name': 'python', 'version': '3.6.10'}, {'name': 'tensorflow', 'version': '2.1.0'}, {'name': 'keras', 'version': '2.3.1'}, {'name': 'numpy', 'version': '1.18.1'}, {'name': 'sklearn', 'version': '0.22.2.post1'}]\n"
     ]
    }
   ],
   "source": [
    "import platform\n",
    "import tensorflow\n",
    "import numpy\n",
    "import sklearn\n",
    "\n",
    "versions = dict()\n",
    "versions['python'] = platform.python_version()\n",
    "versions['tensorflow'] = tensorflow.__version__\n",
    "versions['numpy'] = numpy.__version__\n",
    "versions['sklearn'] = sklearn.__version__\n",
    "\n",
    "packages = []\n",
    "for k, v in versions.items():\n",
    "    packages.append({\n",
    "        'name': k\n",
    "        ,'version': v\n",
    "    })\n",
    "    \n",
    "print(packages)\n",
    "\n",
    "import json\n",
    "with open(f'versions.json', 'w', encoding='utf-8') as f:\n",
    "    json.dump(packages, f, ensure_ascii=False, indent=4)"
   ]
  },
  {
   "cell_type": "code",
   "execution_count": null,
   "metadata": {},
   "outputs": [],
   "source": []
  }
 ],
 "metadata": {
  "kernelspec": {
   "display_name": "Python 3",
   "language": "python",
   "name": "python3"
  },
  "language_info": {
   "codemirror_mode": {
    "name": "ipython",
    "version": 3
   },
   "file_extension": ".py",
   "mimetype": "text/x-python",
   "name": "python",
   "nbconvert_exporter": "python",
   "pygments_lexer": "ipython3",
   "version": "3.6.10"
  }
 },
 "nbformat": 4,
 "nbformat_minor": 4
}